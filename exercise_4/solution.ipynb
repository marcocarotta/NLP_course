{
 "cells": [
  {
   "cell_type": "markdown",
   "metadata": {},
   "source": [
    "First we do a little bit of preprocessing.We check if some trigram start with space or and with space.\n",
    "Then we make everything lower case just for avoiding problem in counting."
   ]
  },
  {
   "cell_type": "code",
   "execution_count": 2,
   "metadata": {},
   "outputs": [
    {
     "data": {
      "text/html": [
       "<div>\n",
       "<style scoped>\n",
       "    .dataframe tbody tr th:only-of-type {\n",
       "        vertical-align: middle;\n",
       "    }\n",
       "\n",
       "    .dataframe tbody tr th {\n",
       "        vertical-align: top;\n",
       "    }\n",
       "\n",
       "    .dataframe thead th {\n",
       "        text-align: right;\n",
       "    }\n",
       "</style>\n",
       "<table border=\"1\" class=\"dataframe\">\n",
       "  <thead>\n",
       "    <tr style=\"text-align: right;\">\n",
       "      <th>1</th>\n",
       "      <th>Item</th>\n",
       "      <th>Frequency</th>\n",
       "    </tr>\n",
       "  </thead>\n",
       "  <tbody>\n",
       "    <tr>\n",
       "      <th>0</th>\n",
       "      <td>the number of</td>\n",
       "      <td>43379</td>\n",
       "    </tr>\n",
       "    <tr>\n",
       "      <th>1</th>\n",
       "      <td>a set of</td>\n",
       "      <td>26642</td>\n",
       "    </tr>\n",
       "    <tr>\n",
       "      <th>2</th>\n",
       "      <td>as well as</td>\n",
       "      <td>22611</td>\n",
       "    </tr>\n",
       "    <tr>\n",
       "      <th>3</th>\n",
       "      <td>based on the</td>\n",
       "      <td>21012</td>\n",
       "    </tr>\n",
       "    <tr>\n",
       "      <th>4</th>\n",
       "      <td>in order to</td>\n",
       "      <td>19622</td>\n",
       "    </tr>\n",
       "  </tbody>\n",
       "</table>\n",
       "</div>"
      ],
      "text/plain": [
       "1           Item Frequency\n",
       "0  the number of     43379\n",
       "1       a set of     26642\n",
       "2     as well as     22611\n",
       "3   based on the     21012\n",
       "4    in order to     19622"
      ]
     },
     "execution_count": 2,
     "metadata": {},
     "output_type": "execute_result"
    }
   ],
   "source": [
    "import pandas as pd\n",
    "\n",
    "# Load the CSV file into a DataFrame\n",
    "df = pd.read_csv('ex4_ngrams_preloaded_aclarc_2.csv')\n",
    "\n",
    "# Remove the title and the first line of the dataset\n",
    "df = df.drop([0])\n",
    "\n",
    "# Make the line 1 the title\n",
    "df.columns = df.iloc[0]\n",
    "df = df.drop(df.index[0])\n",
    "\n",
    "# Reset the index\n",
    "df = df.reset_index(drop=True)\n",
    "\n",
    "# Display the first few rows of the modified DataFrame\n",
    "df.head()"
   ]
  },
  {
   "cell_type": "code",
   "execution_count": 3,
   "metadata": {},
   "outputs": [
    {
     "name": "stdout",
     "output_type": "stream",
     "text": [
      "Strings starting with a space: 0\n",
      "Strings ending with a space: 0\n"
     ]
    }
   ],
   "source": [
    "# Count how many strings in column 'Item' start or end with a space\n",
    "count_start_space = df['Item'].str.startswith(' ').sum()\n",
    "count_end_space = df['Item'].str.endswith(' ').sum()\n",
    "\n",
    "print(f\"Strings starting with a space: {count_start_space}\")\n",
    "print(f\"Strings ending with a space: {count_end_space}\")"
   ]
  },
  {
   "cell_type": "code",
   "execution_count": 14,
   "metadata": {},
   "outputs": [
    {
     "data": {
      "text/html": [
       "<div>\n",
       "<style scoped>\n",
       "    .dataframe tbody tr th:only-of-type {\n",
       "        vertical-align: middle;\n",
       "    }\n",
       "\n",
       "    .dataframe tbody tr th {\n",
       "        vertical-align: top;\n",
       "    }\n",
       "\n",
       "    .dataframe thead th {\n",
       "        text-align: right;\n",
       "    }\n",
       "</style>\n",
       "<table border=\"1\" class=\"dataframe\">\n",
       "  <thead>\n",
       "    <tr style=\"text-align: right;\">\n",
       "      <th>1</th>\n",
       "      <th>Item</th>\n",
       "      <th>Frequency</th>\n",
       "    </tr>\n",
       "  </thead>\n",
       "  <tbody>\n",
       "    <tr>\n",
       "      <th>0</th>\n",
       "      <td>the number of</td>\n",
       "      <td>43379</td>\n",
       "    </tr>\n",
       "    <tr>\n",
       "      <th>1</th>\n",
       "      <td>a set of</td>\n",
       "      <td>26642</td>\n",
       "    </tr>\n",
       "    <tr>\n",
       "      <th>2</th>\n",
       "      <td>as well as</td>\n",
       "      <td>22611</td>\n",
       "    </tr>\n",
       "    <tr>\n",
       "      <th>3</th>\n",
       "      <td>based on the</td>\n",
       "      <td>21012</td>\n",
       "    </tr>\n",
       "    <tr>\n",
       "      <th>4</th>\n",
       "      <td>in order to</td>\n",
       "      <td>19622</td>\n",
       "    </tr>\n",
       "  </tbody>\n",
       "</table>\n",
       "</div>"
      ],
      "text/plain": [
       "1           Item Frequency\n",
       "0  the number of     43379\n",
       "1       a set of     26642\n",
       "2     as well as     22611\n",
       "3   based on the     21012\n",
       "4    in order to     19622"
      ]
     },
     "execution_count": 14,
     "metadata": {},
     "output_type": "execute_result"
    }
   ],
   "source": [
    "# It could be useful to put everything in lowercase to avoid case-sensitive issues\n",
    "# In practice, i didnt use this block for my analysis.\n",
    "\n",
    "# Convert the 'Item' column to lowercase\n",
    "# df['Item'] = df['Item'].str.lower()\n",
    "\n",
    "# Display the first few rows of the modified DataFrame to verify the changes\n",
    "# df.head()"
   ]
  },
  {
   "cell_type": "code",
   "execution_count": 4,
   "metadata": {},
   "outputs": [
    {
     "name": "stdout",
     "output_type": "stream",
     "text": [
      "All entries are unique.\n"
     ]
    }
   ],
   "source": [
    "# Check for duplicate entries in the DataFrame\n",
    "duplicates = df.duplicated(subset='Item').sum()\n",
    "\n",
    "if duplicates == 0:\n",
    "    print(\"All entries are unique.\")\n",
    "else:\n",
    "    print(f\"There are {duplicates} duplicate entries.\")\n",
    "\n",
    "# Print the duplicates\n",
    "# df[df.duplicated(subset='Item')]"
   ]
  },
  {
   "cell_type": "markdown",
   "metadata": {},
   "source": [
    "Now we can proceed with the real exercise. "
   ]
  },
  {
   "cell_type": "code",
   "execution_count": 5,
   "metadata": {},
   "outputs": [
    {
     "name": "stdout",
     "output_type": "stream",
     "text": [
      "The probability of the trigram 'the case of' is 1.000000\n"
     ]
    }
   ],
   "source": [
    "### EXERCISE 1 ###\n",
    "# Calculate the probability of the trigram \"the case of\"\n",
    "\n",
    "def probability_trigram(trigram):\n",
    "    \"\"\" Calculate the probability of a trigram \n",
    "    \n",
    "    Args:\n",
    "        trigram (str): A trigram string\n",
    "        \n",
    "    Returns:\n",
    "        float: The probability of the trigram computed as the number of occurrences of the trigram divided by the number of occurrences of the bigram extracted from the trigram\n",
    "    \"\"\"\n",
    "\n",
    "\n",
    "    # Extract the bigram from the trigram\n",
    "    bigram = trigram.split(' ')[0] + ' ' + trigram.split(' ')[1]\n",
    "\n",
    "    # Calculate the probability\n",
    "    count_trigram = df[df['Item'] == trigram]['Frequency'].astype(int).sum()\n",
    "    count_bigram = df[df['Item'].str.startswith(bigram)]['Frequency'].astype(int).sum()\n",
    "    return count_trigram / count_bigram\n",
    "\n",
    "# Calculate the probability of the trigram \"the case of\"\n",
    "trigram = 'the case of'\n",
    "probability = probability_trigram(trigram)\n",
    "\n",
    "print(f\"The probability of the trigram '{trigram}' is {probability:.6f}\")"
   ]
  },
  {
   "cell_type": "code",
   "execution_count": 6,
   "metadata": {},
   "outputs": [
    {
     "name": "stdout",
     "output_type": "stream",
     "text": [
      "The probability of the word 'case' is 0.009460\n"
     ]
    }
   ],
   "source": [
    "### EXERCISE 2 ###\n",
    "# Calculate the probability of the word \"case\"\n",
    "# Since we don't have the real text we approximate the probability of a word with the frequency of the trigrams that contain the word divided by the sum of the frequencies of all trigrams\n",
    "\n",
    "def approx_probability_word(word):\n",
    "    \"\"\" Calculate an approximation of the probability of a word. \n",
    "    The approximation is computed as the frequency of the trigrams that contain the word divided by the sum of the frequencies of all trigrams.\n",
    "    Note that if the trigrams contain the word multiple times, the frequency is counted multiple times. For example in the trigram \"as well as\" the word \"as\" appears twice and so we will count the frequency twice.\n",
    "    \n",
    "    Args:\n",
    "        word (str): A word string\n",
    "        \n",
    "    Returns:\n",
    "        float: An approximation of probability of the word computed as the frequency of the trigrams that contain the word divided by the sum of the frequencies of all trigrams\n",
    "    \"\"\"\n",
    "\n",
    "    # Calculate the probability\n",
    "\n",
    "    count_trigrams = 0\n",
    "    for index, row in df.iterrows():\n",
    "        trigram = row['Item']\n",
    "        frequency = int(row['Frequency'])\n",
    "        word_count = trigram.split().count(word)\n",
    "        count_trigrams += word_count * frequency\n",
    "    \n",
    "    count_all_trigrams = df['Frequency'].astype(int).sum()\n",
    "    return count_trigrams / count_all_trigrams if count_all_trigrams > 0 else 0\n",
    "\n",
    "probability = approx_probability_word('case')\n",
    "print(f\"The probability of the word 'case' is {probability:.6f}\")"
   ]
  },
  {
   "cell_type": "code",
   "execution_count": 20,
   "metadata": {},
   "outputs": [
    {
     "name": "stdout",
     "output_type": "stream",
     "text": [
      "The longest string that can be generated starting with 'in the' is 'in the training data for'\n"
     ]
    }
   ],
   "source": [
    "### EXERCISE 3 ###\n",
    "# What is the longest string that you can generate starting with \"in the\" and only using the highest probability continuation?\n",
    "\n",
    "def generate_longest_string(starting_bigram, df=df):\n",
    "    \"\"\" Generate the longest string that can be generated starting with a given bigram and only using the highest probability continuation.\n",
    "    \n",
    "    Args:\n",
    "        starting_bigram (str): A bigram to start with, or a phrase\n",
    "        df (pd.DataFrame): The DataFrame containing the n-grams and the frequencies\n",
    "        \n",
    "    Returns:\n",
    "        str: The longest string that can be generated starting with the given bigram and only using the highest probability continuation\n",
    "    \"\"\"\n",
    "\n",
    "    # Initialize the generated string\n",
    "    generated_string = starting_bigram\n",
    "\n",
    "    probability_trigram_dict = {} # Store the probability of each trigram, so that i dont have to compute them multiple times\n",
    "\n",
    "    while True:\n",
    "        # Get the current bigram\n",
    "        current_bigram = generated_string.split(' ')[-2:]\n",
    "\n",
    "        # Find the row corresponding to the current bigram\n",
    "        bigram_row = df[df['Item'].str.startswith(current_bigram[0] + ' ' + current_bigram[1])]\n",
    "        if bigram_row.empty:\n",
    "            break\n",
    "\n",
    "        # Compute the probability of each trigram starting with the current bigram and store it in the dictionary probability_trigram_starting_bigram\n",
    "        probability_trigram_starting_bigram = {} # Store the probability of each trigram starting with the current bigram\n",
    "        for index, row in bigram_row.iterrows():\n",
    "            trigram = row['Item']\n",
    "            if probability_trigram_dict.get(trigram) is None:\n",
    "                probability = probability_trigram(trigram)\n",
    "                probability_trigram_dict[trigram] = probability\n",
    "                probability_trigram_starting_bigram[trigram] = probability\n",
    "            else:\n",
    "                probability_trigram_starting_bigram[trigram] = probability_trigram_dict[trigram]\n",
    "\n",
    "        next_word = max(probability_trigram_starting_bigram, key=probability_trigram_starting_bigram.get).split(' ')[-1]\n",
    "        generated_string += ' ' + next_word\n",
    "    return generated_string\n",
    "\n",
    "# Generate the longest string starting with \"in the\"\n",
    "starting_bigram = 'in the'\n",
    "longest_string = generate_longest_string(\"in the\")\n",
    "print(f\"The longest string that can be generated starting with '{starting_bigram}' is '{longest_string}'\")"
   ]
  },
  {
   "cell_type": "code",
   "execution_count": 30,
   "metadata": {},
   "outputs": [
    {
     "name": "stdout",
     "output_type": "stream",
     "text": [
      "The possible strings are: ['in the training data for', 'in the training data and', 'in the training set', 'in the same time', 'in the same as']\n"
     ]
    }
   ],
   "source": [
    "### EXERCISE 4 ###\n",
    "# What is the longest string that you can generate starting with \"in the\" and allowing the second highest probability continuation when needed?\n",
    "\n",
    "def get_most_probable_continuation(phrase, df=df):\n",
    "    \"\"\" Get the most probable continuation of a phrase based on the highest probability of the trigrams starting with the phrase.\n",
    "    \n",
    "    Args:\n",
    "        phrase (str): A phrase to continue\n",
    "        df (pd.DataFrame): The DataFrame containing the n-grams and the frequencies\n",
    "        \n",
    "    Returns:\n",
    "        str: The most probable word to continue the phrase\n",
    "    \"\"\"\n",
    "\n",
    "    # Get the last bigram of the phrase\n",
    "    bigram = phrase.split(' ')[-2] + ' ' + phrase.split(' ')[-1]\n",
    "\n",
    "    # Find the row corresponding to the bigram\n",
    "    bigram_row = df[df['Item'].str.startswith(bigram)]\n",
    "    if bigram_row.empty:\n",
    "        return None\n",
    "\n",
    "    # Compute the probability of each trigram starting with the bigram\n",
    "    probability_trigram_starting_bigram = {}\n",
    "    for index, row in bigram_row.iterrows():\n",
    "        trigram = row['Item']\n",
    "        probability = probability_trigram(trigram)\n",
    "        probability_trigram_starting_bigram[trigram] = probability\n",
    "\n",
    "    # Get the most probable continuation\n",
    "    most_probable_continuation = max(probability_trigram_starting_bigram, key=probability_trigram_starting_bigram.get).split(' ')[-1]\n",
    "    return most_probable_continuation\n",
    "\n",
    "\n",
    "\n",
    "def generate_longest_strings_with_also_second_prob(starting_bigram, df=df):\n",
    "    \"\"\" Generate the longest string that can be generated starting with a given bigram and allowing the second highest probability continuation when needed.\n",
    "    \n",
    "    Args:\n",
    "        starting_bigram (str): A bigram to start with\n",
    "        df (pd.DataFrame): The DataFrame containing the n-grams and the frequencies\n",
    "        \n",
    "    Returns:\n",
    "        str: The longest string that can be generated starting with the given bigram and allowing the second highest probability continuation when needed\n",
    "    \"\"\"\n",
    "\n",
    "    # Initialize the generated string\n",
    "    generated_string = starting_bigram\n",
    "\n",
    "    # Make a list with the possible phrases\n",
    "    possible_phrases = []\n",
    "    possible_phrases.append(generated_string)\n",
    "\n",
    "    \n",
    "    while True:\n",
    "        new_possible_phrases = [] # Store the new possible phrases\n",
    "        for phrase in possible_phrases:\n",
    "\n",
    "            first_next_word = get_most_probable_continuation(phrase)\n",
    "\n",
    "            if first_next_word is None:\n",
    "                first_continuation = phrase\n",
    "            else:\n",
    "                first_continuation = phrase + ' ' + first_next_word\n",
    "            \n",
    "            last_trigram = first_continuation.split(' ')[-3:]\n",
    "            last_trigram_str= last_trigram[0] + ' ' + last_trigram[1]+ ' ' + last_trigram[2]\n",
    "\n",
    "            temp_df = df.copy()\n",
    "            temp_df.drop(temp_df[temp_df['Item'].str.startswith(last_trigram_str)].index, inplace=True)\n",
    "\n",
    "            second_next_word = get_most_probable_continuation(phrase, temp_df)\n",
    "\n",
    "            if second_next_word is None:\n",
    "                second_continuation = phrase\n",
    "            else:\n",
    "                second_continuation = phrase + ' ' + second_next_word\n",
    "\n",
    "\n",
    "            if len(first_continuation) >= len(phrase):\n",
    "                new_possible_phrases.append(first_continuation)\n",
    "            if len(second_continuation) > len(phrase):\n",
    "                new_possible_phrases.append(second_continuation)\n",
    "        \n",
    "        if new_possible_phrases == possible_phrases:\n",
    "            break\n",
    "        else:\n",
    "            possible_phrases = new_possible_phrases\n",
    "    return possible_phrases\n",
    "\n",
    "# Generate the longest string starting with \"in the\" and allowing the second highest probability continuation when needed\n",
    "starting_bigram = 'in the'\n",
    "longest_strings = generate_longest_strings_with_also_second_prob(\"in the\")\n",
    "print(\"The possible strings are:\", longest_strings)"
   ]
  },
  {
   "cell_type": "code",
   "execution_count": 31,
   "metadata": {},
   "outputs": [
    {
     "name": "stdout",
     "output_type": "stream",
     "text": [
      "The perplexity of the string 'in the training data for' is 4.085422\n"
     ]
    }
   ],
   "source": [
    "### EXERCISE 5 ###\n",
    "# Calculate the perplexity score of the string 'in the training data for'.\n",
    "\n",
    "def calculate_probability_of_string(string):\n",
    "    \"\"\" Calculate the list of probability of the trigrams of the string.\n",
    "    \n",
    "    Args:\n",
    "        string (str): A string of words\n",
    "        \n",
    "    Returns:\n",
    "        list of float: The list of probabilities of the trigrams of the string\n",
    "    \"\"\"\n",
    "\n",
    "    # Split the string into words\n",
    "    words = string.split()\n",
    "\n",
    "    # Calculate the probability of the string\n",
    "    probability = []\n",
    "    for i in range(len(words)-2):\n",
    "        trigram = ' '.join(words[i:i+3])\n",
    "        probability.append(probability_trigram(trigram))\n",
    "    return probability\n",
    "\n",
    "import math\n",
    "def calculate_perplexity(probabilities):\n",
    "    \"\"\" Calculate the perplexity score of a sequence of probabilities\n",
    "\n",
    "    Args:\n",
    "        probabilities (list): A list of probabilities\n",
    "\n",
    "    Returns:\n",
    "        float: The perplexity score of the sequence of probabilities\n",
    "    \"\"\"\n",
    "    \n",
    "    N = len(probabilities)\n",
    "    log_prob_sum = sum(math.log2(p) for p in probabilities)\n",
    "    perplexity = 2 ** (-log_prob_sum / N)\n",
    "    return perplexity\n",
    "\n",
    "phrase = 'in the training data for'\n",
    "probabilities = calculate_probability_of_string(phrase)\n",
    "perplexity = calculate_perplexity(probabilities)\n",
    "print(f\"The perplexity of the string '{phrase}' is {perplexity:.6f}\")"
   ]
  },
  {
   "cell_type": "code",
   "execution_count": 33,
   "metadata": {},
   "outputs": [
    {
     "name": "stdout",
     "output_type": "stream",
     "text": [
      "The perplexity of the string 'in an unlikely event' is 2824083.000000\n"
     ]
    }
   ],
   "source": [
    "### EXERCISE 6 ###\n",
    "# Calculate the perplexity score for the following phrase \"in an unlikely event\"? (Note: For this, you are allowed to replace any word with \"UNK\" but the count of all such trigrams is 1.)\n",
    "\n",
    "def calculate_probability_of_string_with_UNK(string):\n",
    "    \"\"\" Calculate the list of probability of the trigrams of the string with the possibility to replace any word with 'UNK'.\n",
    "    \n",
    "    Args:\n",
    "        string (str): A string of words\n",
    "        \n",
    "    Returns:\n",
    "        list of float: The list of probabilities of the trigrams of the string\n",
    "    \"\"\"\n",
    "\n",
    "    # Split the string into words\n",
    "    words = string.split()\n",
    "\n",
    "    # Calculate the probability of the string\n",
    "    probability = []\n",
    "    for i in range(len(words)-2):\n",
    "        trigram = ' '.join(words[i:i+3])\n",
    "        if df[df['Item'] == trigram]['Frequency'].astype(int).sum() == 0:\n",
    "            probability.append(1/df['Frequency'].astype(int).sum())\n",
    "        else:\n",
    "            probability.append(probability_trigram(trigram))\n",
    "    return probability\n",
    "\n",
    "phrase = 'in an unlikely event'\n",
    "probabilities = calculate_probability_of_string_with_UNK(phrase)\n",
    "perplexity = calculate_perplexity(probabilities)\n",
    "print(f\"The perplexity of the string '{phrase}' is {perplexity:.6f}\")"
   ]
  }
 ],
 "metadata": {
  "kernelspec": {
   "display_name": "env",
   "language": "python",
   "name": "python3"
  },
  "language_info": {
   "codemirror_mode": {
    "name": "ipython",
    "version": 3
   },
   "file_extension": ".py",
   "mimetype": "text/x-python",
   "name": "python",
   "nbconvert_exporter": "python",
   "pygments_lexer": "ipython3",
   "version": "3.12.3"
  }
 },
 "nbformat": 4,
 "nbformat_minor": 2
}
